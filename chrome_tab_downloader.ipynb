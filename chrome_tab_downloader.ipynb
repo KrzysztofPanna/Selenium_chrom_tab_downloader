{
 "cells": [
  {
   "cell_type": "code",
   "execution_count": 1,
   "id": "68c3dd15",
   "metadata": {},
   "outputs": [
    {
     "name": "stdout",
     "output_type": "stream",
     "text": [
      "\n"
     ]
    },
    {
     "name": "stderr",
     "output_type": "stream",
     "text": [
      "<ipython-input-1-1929ddfc2694>:23: DeprecationWarning: find_element_by_* commands are deprecated. Please use find_element() instead\n",
      "  rodo_button = driver.find_element_by_id(\"onetrust-pc-btn-handler\")\n",
      "<ipython-input-1-1929ddfc2694>:31: DeprecationWarning: find_element_by_class_name is deprecated. Please use find_element(by=By.CLASS_NAME, value=name) instead\n",
      "  not_permited= driver.find_element_by_class_name(\"save-preference-btn-handler onetrust-close-btn-handler\")\n"
     ]
    },
    {
     "ename": "NoSuchElementException",
     "evalue": "Message: no such element: Unable to locate element: {\"method\":\"css selector\",\"selector\":\".save-preference-btn-handler onetrust-close-btn-handler\"}\n  (Session info: chrome=102.0.5005.115)\nStacktrace:\nBacktrace:\n\tOrdinal0 [0x00ADD953+2414931]\n\tOrdinal0 [0x00A6F5E1+1963489]\n\tOrdinal0 [0x0095C6B8+837304]\n\tOrdinal0 [0x00989500+1021184]\n\tOrdinal0 [0x0098979B+1021851]\n\tOrdinal0 [0x009B6502+1205506]\n\tOrdinal0 [0x009A44E4+1131748]\n\tOrdinal0 [0x009B4812+1198098]\n\tOrdinal0 [0x009A42B6+1131190]\n\tOrdinal0 [0x0097E860+976992]\n\tOrdinal0 [0x0097F756+980822]\n\tGetHandleVerifier [0x00D4CC62+2510274]\n\tGetHandleVerifier [0x00D3F760+2455744]\n\tGetHandleVerifier [0x00B6EABA+551962]\n\tGetHandleVerifier [0x00B6D916+547446]\n\tOrdinal0 [0x00A75F3B+1990459]\n\tOrdinal0 [0x00A7A898+2009240]\n\tOrdinal0 [0x00A7A985+2009477]\n\tOrdinal0 [0x00A83AD1+2046673]\n\tBaseThreadInitThunk [0x7611FA29+25]\n\tRtlGetAppContainerNamedObjectPath [0x77D67A9E+286]\n\tRtlGetAppContainerNamedObjectPath [0x77D67A6E+238]\n",
     "output_type": "error",
     "traceback": [
      "\u001b[1;31m---------------------------------------------------------------------------\u001b[0m",
      "\u001b[1;31mAttributeError\u001b[0m                            Traceback (most recent call last)",
      "\u001b[1;32m<ipython-input-1-1929ddfc2694>\u001b[0m in \u001b[0;36m<module>\u001b[1;34m\u001b[0m\n\u001b[0;32m     27\u001b[0m     not_permited = WebDriverWait(driver, 10).until(\n\u001b[1;32m---> 28\u001b[1;33m         \u001b[0mEC\u001b[0m\u001b[1;33m.\u001b[0m\u001b[0mpresence_of_element_located\u001b[0m\u001b[1;33m(\u001b[0m\u001b[1;33m(\u001b[0m\u001b[0mBy\u001b[0m\u001b[1;33m.\u001b[0m\u001b[0mclass_name\u001b[0m\u001b[1;33m,\u001b[0m \u001b[1;34m\"save-preference-btn-handler onetrust-close-btn-handler\"\u001b[0m\u001b[1;33m)\u001b[0m\u001b[1;33m)\u001b[0m\u001b[1;33m\u001b[0m\u001b[1;33m\u001b[0m\u001b[0m\n\u001b[0m\u001b[0;32m     29\u001b[0m     )\n",
      "\u001b[1;31mAttributeError\u001b[0m: type object 'By' has no attribute 'class_name'",
      "\nDuring handling of the above exception, another exception occurred:\n",
      "\u001b[1;31mNoSuchElementException\u001b[0m                    Traceback (most recent call last)",
      "\u001b[1;32m<ipython-input-1-1929ddfc2694>\u001b[0m in \u001b[0;36m<module>\u001b[1;34m\u001b[0m\n\u001b[0;32m     29\u001b[0m     )\n\u001b[0;32m     30\u001b[0m \u001b[1;32mfinally\u001b[0m\u001b[1;33m:\u001b[0m\u001b[1;33m\u001b[0m\u001b[1;33m\u001b[0m\u001b[0m\n\u001b[1;32m---> 31\u001b[1;33m     \u001b[0mnot_permited\u001b[0m\u001b[1;33m=\u001b[0m \u001b[0mdriver\u001b[0m\u001b[1;33m.\u001b[0m\u001b[0mfind_element_by_class_name\u001b[0m\u001b[1;33m(\u001b[0m\u001b[1;34m\"save-preference-btn-handler onetrust-close-btn-handler\"\u001b[0m\u001b[1;33m)\u001b[0m\u001b[1;33m\u001b[0m\u001b[1;33m\u001b[0m\u001b[0m\n\u001b[0m\u001b[0;32m     32\u001b[0m     \u001b[0mnot_permited\u001b[0m\u001b[1;33m.\u001b[0m\u001b[0msend_keys\u001b[0m\u001b[1;33m(\u001b[0m\u001b[0mKeys\u001b[0m\u001b[1;33m.\u001b[0m\u001b[0mRETURN\u001b[0m\u001b[1;33m)\u001b[0m\u001b[1;33m\u001b[0m\u001b[1;33m\u001b[0m\u001b[0m\n\u001b[0;32m     33\u001b[0m \u001b[1;33m\u001b[0m\u001b[0m\n",
      "\u001b[1;32m~\\anaconda3\\lib\\site-packages\\selenium\\webdriver\\remote\\webdriver.py\u001b[0m in \u001b[0;36mfind_element_by_class_name\u001b[1;34m(self, name)\u001b[0m\n\u001b[0;32m    764\u001b[0m             \u001b[0mstacklevel\u001b[0m\u001b[1;33m=\u001b[0m\u001b[1;36m2\u001b[0m\u001b[1;33m,\u001b[0m\u001b[1;33m\u001b[0m\u001b[1;33m\u001b[0m\u001b[0m\n\u001b[0;32m    765\u001b[0m         )\n\u001b[1;32m--> 766\u001b[1;33m         \u001b[1;32mreturn\u001b[0m \u001b[0mself\u001b[0m\u001b[1;33m.\u001b[0m\u001b[0mfind_element\u001b[0m\u001b[1;33m(\u001b[0m\u001b[0mby\u001b[0m\u001b[1;33m=\u001b[0m\u001b[0mBy\u001b[0m\u001b[1;33m.\u001b[0m\u001b[0mCLASS_NAME\u001b[0m\u001b[1;33m,\u001b[0m \u001b[0mvalue\u001b[0m\u001b[1;33m=\u001b[0m\u001b[0mname\u001b[0m\u001b[1;33m)\u001b[0m\u001b[1;33m\u001b[0m\u001b[1;33m\u001b[0m\u001b[0m\n\u001b[0m\u001b[0;32m    767\u001b[0m \u001b[1;33m\u001b[0m\u001b[0m\n\u001b[0;32m    768\u001b[0m     \u001b[1;32mdef\u001b[0m \u001b[0mfind_elements_by_class_name\u001b[0m\u001b[1;33m(\u001b[0m\u001b[0mself\u001b[0m\u001b[1;33m,\u001b[0m \u001b[0mname\u001b[0m\u001b[1;33m)\u001b[0m \u001b[1;33m->\u001b[0m \u001b[0mList\u001b[0m\u001b[1;33m[\u001b[0m\u001b[0mWebElement\u001b[0m\u001b[1;33m]\u001b[0m\u001b[1;33m:\u001b[0m\u001b[1;33m\u001b[0m\u001b[1;33m\u001b[0m\u001b[0m\n",
      "\u001b[1;32m~\\anaconda3\\lib\\site-packages\\selenium\\webdriver\\remote\\webdriver.py\u001b[0m in \u001b[0;36mfind_element\u001b[1;34m(self, by, value)\u001b[0m\n\u001b[0;32m   1249\u001b[0m             \u001b[0mvalue\u001b[0m \u001b[1;33m=\u001b[0m \u001b[1;34m'[name=\"%s\"]'\u001b[0m \u001b[1;33m%\u001b[0m \u001b[0mvalue\u001b[0m\u001b[1;33m\u001b[0m\u001b[1;33m\u001b[0m\u001b[0m\n\u001b[0;32m   1250\u001b[0m \u001b[1;33m\u001b[0m\u001b[0m\n\u001b[1;32m-> 1251\u001b[1;33m         return self.execute(Command.FIND_ELEMENT, {\n\u001b[0m\u001b[0;32m   1252\u001b[0m             \u001b[1;34m'using'\u001b[0m\u001b[1;33m:\u001b[0m \u001b[0mby\u001b[0m\u001b[1;33m,\u001b[0m\u001b[1;33m\u001b[0m\u001b[1;33m\u001b[0m\u001b[0m\n\u001b[0;32m   1253\u001b[0m             'value': value})['value']\n",
      "\u001b[1;32m~\\anaconda3\\lib\\site-packages\\selenium\\webdriver\\remote\\webdriver.py\u001b[0m in \u001b[0;36mexecute\u001b[1;34m(self, driver_command, params)\u001b[0m\n\u001b[0;32m    428\u001b[0m         \u001b[0mresponse\u001b[0m \u001b[1;33m=\u001b[0m \u001b[0mself\u001b[0m\u001b[1;33m.\u001b[0m\u001b[0mcommand_executor\u001b[0m\u001b[1;33m.\u001b[0m\u001b[0mexecute\u001b[0m\u001b[1;33m(\u001b[0m\u001b[0mdriver_command\u001b[0m\u001b[1;33m,\u001b[0m \u001b[0mparams\u001b[0m\u001b[1;33m)\u001b[0m\u001b[1;33m\u001b[0m\u001b[1;33m\u001b[0m\u001b[0m\n\u001b[0;32m    429\u001b[0m         \u001b[1;32mif\u001b[0m \u001b[0mresponse\u001b[0m\u001b[1;33m:\u001b[0m\u001b[1;33m\u001b[0m\u001b[1;33m\u001b[0m\u001b[0m\n\u001b[1;32m--> 430\u001b[1;33m             \u001b[0mself\u001b[0m\u001b[1;33m.\u001b[0m\u001b[0merror_handler\u001b[0m\u001b[1;33m.\u001b[0m\u001b[0mcheck_response\u001b[0m\u001b[1;33m(\u001b[0m\u001b[0mresponse\u001b[0m\u001b[1;33m)\u001b[0m\u001b[1;33m\u001b[0m\u001b[1;33m\u001b[0m\u001b[0m\n\u001b[0m\u001b[0;32m    431\u001b[0m             response['value'] = self._unwrap_value(\n\u001b[0;32m    432\u001b[0m                 response.get('value', None))\n",
      "\u001b[1;32m~\\anaconda3\\lib\\site-packages\\selenium\\webdriver\\remote\\errorhandler.py\u001b[0m in \u001b[0;36mcheck_response\u001b[1;34m(self, response)\u001b[0m\n\u001b[0;32m    245\u001b[0m                 \u001b[0malert_text\u001b[0m \u001b[1;33m=\u001b[0m \u001b[0mvalue\u001b[0m\u001b[1;33m[\u001b[0m\u001b[1;34m'alert'\u001b[0m\u001b[1;33m]\u001b[0m\u001b[1;33m.\u001b[0m\u001b[0mget\u001b[0m\u001b[1;33m(\u001b[0m\u001b[1;34m'text'\u001b[0m\u001b[1;33m)\u001b[0m\u001b[1;33m\u001b[0m\u001b[1;33m\u001b[0m\u001b[0m\n\u001b[0;32m    246\u001b[0m             \u001b[1;32mraise\u001b[0m \u001b[0mexception_class\u001b[0m\u001b[1;33m(\u001b[0m\u001b[0mmessage\u001b[0m\u001b[1;33m,\u001b[0m \u001b[0mscreen\u001b[0m\u001b[1;33m,\u001b[0m \u001b[0mstacktrace\u001b[0m\u001b[1;33m,\u001b[0m \u001b[0malert_text\u001b[0m\u001b[1;33m)\u001b[0m  \u001b[1;31m# type: ignore[call-arg]  # mypy is not smart enough here\u001b[0m\u001b[1;33m\u001b[0m\u001b[1;33m\u001b[0m\u001b[0m\n\u001b[1;32m--> 247\u001b[1;33m         \u001b[1;32mraise\u001b[0m \u001b[0mexception_class\u001b[0m\u001b[1;33m(\u001b[0m\u001b[0mmessage\u001b[0m\u001b[1;33m,\u001b[0m \u001b[0mscreen\u001b[0m\u001b[1;33m,\u001b[0m \u001b[0mstacktrace\u001b[0m\u001b[1;33m)\u001b[0m\u001b[1;33m\u001b[0m\u001b[1;33m\u001b[0m\u001b[0m\n\u001b[0m\u001b[0;32m    248\u001b[0m \u001b[1;33m\u001b[0m\u001b[0m\n\u001b[0;32m    249\u001b[0m     \u001b[1;32mdef\u001b[0m \u001b[0m_value_or_default\u001b[0m\u001b[1;33m(\u001b[0m\u001b[0mself\u001b[0m\u001b[1;33m,\u001b[0m \u001b[0mobj\u001b[0m\u001b[1;33m:\u001b[0m \u001b[0mMapping\u001b[0m\u001b[1;33m[\u001b[0m\u001b[0m_KT\u001b[0m\u001b[1;33m,\u001b[0m \u001b[0m_VT\u001b[0m\u001b[1;33m]\u001b[0m\u001b[1;33m,\u001b[0m \u001b[0mkey\u001b[0m\u001b[1;33m:\u001b[0m \u001b[0m_KT\u001b[0m\u001b[1;33m,\u001b[0m \u001b[0mdefault\u001b[0m\u001b[1;33m:\u001b[0m \u001b[0m_VT\u001b[0m\u001b[1;33m)\u001b[0m \u001b[1;33m->\u001b[0m \u001b[0m_VT\u001b[0m\u001b[1;33m:\u001b[0m\u001b[1;33m\u001b[0m\u001b[1;33m\u001b[0m\u001b[0m\n",
      "\u001b[1;31mNoSuchElementException\u001b[0m: Message: no such element: Unable to locate element: {\"method\":\"css selector\",\"selector\":\".save-preference-btn-handler onetrust-close-btn-handler\"}\n  (Session info: chrome=102.0.5005.115)\nStacktrace:\nBacktrace:\n\tOrdinal0 [0x00ADD953+2414931]\n\tOrdinal0 [0x00A6F5E1+1963489]\n\tOrdinal0 [0x0095C6B8+837304]\n\tOrdinal0 [0x00989500+1021184]\n\tOrdinal0 [0x0098979B+1021851]\n\tOrdinal0 [0x009B6502+1205506]\n\tOrdinal0 [0x009A44E4+1131748]\n\tOrdinal0 [0x009B4812+1198098]\n\tOrdinal0 [0x009A42B6+1131190]\n\tOrdinal0 [0x0097E860+976992]\n\tOrdinal0 [0x0097F756+980822]\n\tGetHandleVerifier [0x00D4CC62+2510274]\n\tGetHandleVerifier [0x00D3F760+2455744]\n\tGetHandleVerifier [0x00B6EABA+551962]\n\tGetHandleVerifier [0x00B6D916+547446]\n\tOrdinal0 [0x00A75F3B+1990459]\n\tOrdinal0 [0x00A7A898+2009240]\n\tOrdinal0 [0x00A7A985+2009477]\n\tOrdinal0 [0x00A83AD1+2046673]\n\tBaseThreadInitThunk [0x7611FA29+25]\n\tRtlGetAppContainerNamedObjectPath [0x77D67A9E+286]\n\tRtlGetAppContainerNamedObjectPath [0x77D67A6E+238]\n"
     ]
    }
   ],
   "source": [
    "from selenium import webdriver                    # import biblioteki\n",
    "from selenium.webdriver.chrome.service import Service    # uzycie service zeby nie bylo bledu -> https://www.youtube.com/watch?v=VMzmVFA-Gps&ab_channel=Mukeshotwani\n",
    "from selenium.webdriver.common.keys import Keys # wpisywanie w pola na stornie\n",
    "\n",
    "\n",
    "# import bibliotek potrzebnych do wyczekiwania az na stronie pojawi sie konkretny obiekt wypisany w kodzie (przydatne gdy \"klikamy\" kilka razy)\n",
    "from selenium.webdriver.common.by import By \n",
    "from selenium.webdriver.support.ui import WebDriverWait\n",
    "from selenium.webdriver.support import expected_conditions as EC\n",
    "\n",
    "\n",
    "#-----------------------------------------------------------------------------------------------------------------------\n",
    "\n",
    "s = Service(\"D:\\Programowanie_funkcje_py\\chromedriver.exe\") # sciezka do sterownika chroma <-- przed zastosowaniem selenium nalezy sciagnac \"chromedriver\") https://www.youtube.com/watch?v=Xjv1sY630Uc&ab_channel=TechWithTim\n",
    "driver = webdriver.Chrome(service=s)                        # uruchom sterownik podany w sciezce\n",
    "\n",
    "print(driver.title)\n",
    "\n",
    "# otworzenie strony o podanym URL\n",
    "driver.get(\"https://www.otodom.pl/\")\n",
    "\n",
    "# czego ma szukac (na stronie zbadaj element) najlepiej gdy jest ID,potem name, potem klasa\n",
    "rodo_button = driver.find_element_by_id(\"onetrust-pc-btn-handler\")\n",
    "rodo_button.send_keys(Keys.RETURN)\n",
    "\n",
    "try:\n",
    "    not_permited = WebDriverWait(driver, 10).until(\n",
    "        EC.presence_of_element_located((By.class_name, \"save-preference-btn-handler onetrust-close-btn-handler\"))\n",
    "    )\n",
    "finally:\n",
    "    not_permited= driver.find_element_by_class_name(\"save-preference-btn-handler onetrust-close-btn-handler\")\n",
    "    not_permited.send_keys(Keys.RETURN)\n",
    "\n",
    "\"\"\"\n",
    "not_permited = driver.find.element_by_class(\"save-preference-btn-handler onetrust-close-btn-handler\")\n",
    "not_permited.send_keys(Keys.RETURN)\n",
    "\n",
    "\n",
    "\n",
    "\n",
    "\n",
    "\n",
    "\n",
    "\n",
    "\n",
    "\n",
    "\n",
    "search = driver.find_element_by_class_name(\"homepage\")  # odnalezienie na stronie poprzez wcisniecie prawyb na miejsce gdzie cos sie wpisuje zbadaj (sprawdzenie id, name lub class) i wpisanie jej <-- okreslamy obiekt na stronie\n",
    "search.send_keys(\"Mieszkanie warszawa\")                 # co program na wpisac\n",
    "search.send_keys(Keys.RETURN)                           # wcisniecie entera\n",
    "\"\"\""
   ]
  },
  {
   "cell_type": "code",
   "execution_count": null,
   "id": "c9b886fe",
   "metadata": {},
   "outputs": [],
   "source": []
  },
  {
   "cell_type": "code",
   "execution_count": 55,
   "id": "bee30086",
   "metadata": {},
   "outputs": [
    {
     "name": "stderr",
     "output_type": "stream",
     "text": [
      "<ipython-input-55-72093e9949c5>:36: DeprecationWarning: find_element_by_name is deprecated. Please use find_element(by=By.NAME, value=name) instead\n",
      "  search = driver.find_element_by_name(\"q\")\n"
     ]
    }
   ],
   "source": [
    "from selenium import webdriver                    # import biblioteki\n",
    "from selenium.webdriver.chrome.service import Service    # uzycie service zeby nie bylo bledu -> https://www.youtube.com/watch?v=VMzmVFA-Gps&ab_channel=Mukeshotwani\n",
    "from selenium.webdriver.common.keys import Keys # wpisywanie w pola na stornie\n",
    "\n",
    "\n",
    "# import bibliotek potrzebnych do wyczekiwania az na stronie pojawi sie konkretny obiekt wypisany w kodzie (przydatne gdy \"klikamy\" kilka razy)\n",
    "from selenium.webdriver.common.by import By \n",
    "from selenium.webdriver.support.ui import WebDriverWait\n",
    "from selenium.webdriver.support import expected_conditions as EC\n",
    "\n",
    "import time\n",
    "\n",
    "#-----------------------------------------------------------------------------------------------------------------------\n",
    "\n",
    "s = Service(\"D:\\Programowanie_funkcje_py\\chromedriver.exe\") # sciezka do sterownika chroma <-- przed zastosowaniem selenium nalezy sciagnac \"chromedriver\") https://www.youtube.com/watch?v=Xjv1sY630Uc&ab_channel=TechWithTim\n",
    "driver = webdriver.Chrome(service=s)                        # uruchom sterownik podany w sciezce\n",
    "\n",
    "driver.get(\"https://www.google.pl/\")  # otworzenie strony o podanym URL\n",
    "\n",
    "\n",
    "\"\"\"\n",
    "Jesli\n",
    "time.sleep(2)               # odczekanie 2 sekund (powoli sie wczytuje rodo button) \n",
    "rodo = driver.find_element_by_id(\"W0wltc\")    \n",
    "\"\"\"\n",
    "\n",
    "try:\n",
    "    rodo = WebDriverWait(driver, 3).until(EC.presence_of_element_located((By.ID, \"W0wltc\")))              # czeka max 10s az sie pojawi id jakie wpisalismy, wyszukanie przycisku do odrzucenia cookies\n",
    "    rodo.send_keys(Keys.RETURN)                   # wcisniecie odrzucenia\n",
    "\n",
    "        \n",
    "    search = driver.find_element_by_name(\"q\")  # odnalezienie miejsca w google gdzie sie wpisuje\n",
    "    search.send_keys(\"kurs dolara\")            # wpisanie kurs dolara\n",
    "    search.send_keys(Keys.RETURN)              # enter\n",
    "    \n",
    "    \n",
    "    \n",
    "    articles = driver.find_element_by_class_name(\"srp\")\n",
    "    \n",
    "except:\n",
    "    driver.quit()\n",
    "\n",
    "\n",
    "\n",
    "\n",
    "\n"
   ]
  },
  {
   "cell_type": "code",
   "execution_count": null,
   "id": "aa77329c",
   "metadata": {},
   "outputs": [],
   "source": []
  },
  {
   "cell_type": "code",
   "execution_count": null,
   "id": "ae633954",
   "metadata": {},
   "outputs": [],
   "source": []
  },
  {
   "cell_type": "code",
   "execution_count": null,
   "id": "62324732",
   "metadata": {},
   "outputs": [],
   "source": []
  },
  {
   "cell_type": "code",
   "execution_count": null,
   "id": "0bf7a04f",
   "metadata": {},
   "outputs": [],
   "source": []
  },
  {
   "cell_type": "code",
   "execution_count": null,
   "id": "9bc642d8",
   "metadata": {},
   "outputs": [],
   "source": [
    "for handle in driver.window_handles:\n",
    "    driver.switch_to.window(handle)\n",
    "    print(driver.current_url) "
   ]
  }
 ],
 "metadata": {
  "kernelspec": {
   "display_name": "Python 3",
   "language": "python",
   "name": "python3"
  },
  "language_info": {
   "codemirror_mode": {
    "name": "ipython",
    "version": 3
   },
   "file_extension": ".py",
   "mimetype": "text/x-python",
   "name": "python",
   "nbconvert_exporter": "python",
   "pygments_lexer": "ipython3",
   "version": "3.8.8"
  }
 },
 "nbformat": 4,
 "nbformat_minor": 5
}
